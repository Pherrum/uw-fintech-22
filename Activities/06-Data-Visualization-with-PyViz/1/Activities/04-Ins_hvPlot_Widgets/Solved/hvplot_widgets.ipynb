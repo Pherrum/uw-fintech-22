{
 "cells": [
  {
   "cell_type": "markdown",
   "metadata": {},
   "source": [
    "## Import the required libraries and dependencies"
   ]
  },
  {
   "cell_type": "code",
   "execution_count": null,
   "metadata": {},
   "outputs": [],
   "source": [
    "# Import the required libraries and dependencies\n",
    "import pandas as pd\n",
    "#import numpy as np\n",
    "#import hvplot.pandas"
   ]
  },
  {
   "cell_type": "markdown",
   "metadata": {},
   "source": [
    "## Create and review the flight information DataFrame"
   ]
  },
  {
   "cell_type": "code",
   "execution_count": null,
   "metadata": {},
   "outputs": [],
   "source": [
    "# Use numpy to create random flight information\n",
    "flight_nums = np.random.randint(low=2000, high=7000, size=30)\n",
    "num_passengers = np.random.randint(low=150, high=250, size=30)\n",
    "\n",
    "\n",
    "# Create the DataFrame\n",
    "flight_data = pd.DataFrame({'Passengers' : num_passengers, \n",
    "                            'Flight_Num' : flight_nums, \n",
    "                            'Status' : ['on_time', 'delayed'] * 15, \n",
    "    \n",
    "})\n",
    "\n",
    "# Set the DataFrame index\n",
    "flight_data = flight_data.set_index('Flight_Num')\n",
    "\n",
    "# Review the DataFrame\n",
    "flight_data.head()"
   ]
  },
  {
   "cell_type": "markdown",
   "metadata": {},
   "source": [
    "## Demonstrate the hvPlot toolbar widgets"
   ]
  },
  {
   "cell_type": "code",
   "execution_count": null,
   "metadata": {},
   "outputs": [],
   "source": [
    "# Use hvplot and the bar attribute to visualize the flight data\n",
    "flight_data.hvplot.bar(rot=90)"
   ]
  },
  {
   "cell_type": "markdown",
   "metadata": {},
   "source": [
    "## Numerical aggregation using Pandas groupby function"
   ]
  },
  {
   "cell_type": "code",
   "execution_count": null,
   "metadata": {},
   "outputs": [],
   "source": [
    "# Use sum to find the total number of passengers by flight status\n",
    "flight_data.groupby('Status').sum()"
   ]
  },
  {
   "cell_type": "code",
   "execution_count": null,
   "metadata": {},
   "outputs": [],
   "source": [
    "# Use sum to find the average number of passengers per flight by flight status\n",
    "flight_data.groupby('Status').mean()"
   ]
  },
  {
   "cell_type": "markdown",
   "metadata": {},
   "source": [
    "## Visual aggregation using hvPlot and groupby"
   ]
  },
  {
   "cell_type": "code",
   "execution_count": null,
   "metadata": {},
   "outputs": [],
   "source": [
    "# Using groupby with hvPlot generates a dropdown menu widget\n",
    "flight_data.hvplot.bar(groupby='Status')"
   ]
  },
  {
   "cell_type": "code",
   "execution_count": null,
   "metadata": {},
   "outputs": [],
   "source": []
  }
 ],
 "metadata": {
  "file_extension": ".py",
  "kernelspec": {
   "display_name": "hvplot",
   "language": "python",
   "name": "hvplot"
  },
  "language_info": {
   "codemirror_mode": {
    "name": "ipython",
    "version": 3
   },
   "file_extension": ".py",
   "mimetype": "text/x-python",
   "name": "python",
   "nbconvert_exporter": "python",
   "pygments_lexer": "ipython3",
   "version": "3.7.10"
  },
  "mimetype": "text/x-python",
  "name": "python",
  "npconvert_exporter": "python",
  "pygments_lexer": "ipython3",
  "version": 3
 },
 "nbformat": 4,
 "nbformat_minor": 4
}
