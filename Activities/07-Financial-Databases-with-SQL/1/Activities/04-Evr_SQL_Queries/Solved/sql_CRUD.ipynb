version https://git-lfs.github.com/spec/v1
oid sha256:ce84dfcb680ab5e6e6fd824859f4ae98eb369ade01a19811d251e58c18a909e4
size 10989
