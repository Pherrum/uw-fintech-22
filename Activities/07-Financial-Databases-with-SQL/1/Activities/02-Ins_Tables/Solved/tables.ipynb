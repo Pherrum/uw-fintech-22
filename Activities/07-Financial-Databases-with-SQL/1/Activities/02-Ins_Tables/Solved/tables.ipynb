{
 "cells": [
  {
   "cell_type": "code",
   "execution_count": 1,
   "metadata": {},
   "outputs": [],
   "source": [
    "# Import modules\n",
    "import sqlalchemy as sql"
   ]
  },
  {
   "cell_type": "code",
   "execution_count": 2,
   "metadata": {},
   "outputs": [],
   "source": [
    "# Create a temporary sqlite database\n",
    "database_connection_string = 'sqlite:///'"
   ]
  },
  {
   "cell_type": "code",
   "execution_count": 3,
   "metadata": {},
   "outputs": [],
   "source": [
    "# Database connection object\n",
    "engine = sql.create_engine(database_connection_string, echo=True)"
   ]
  },
  {
   "cell_type": "markdown",
   "metadata": {},
   "source": [
    "## Create a SQL Table"
   ]
  },
  {
   "cell_type": "code",
   "execution_count": 4,
   "metadata": {},
   "outputs": [],
   "source": [
    "# Create a table with SQL syntax\n",
    "#   CREATE TABLE <table_name> (\n",
    "#     <column_name> <data_type>,\n",
    "#     <column_name> <data_type>,\n",
    "#     ...,\n",
    "#     <column_name> <data_type>\n",
    "#   )"
   ]
  },
  {
   "cell_type": "code",
   "execution_count": 5,
   "metadata": {},
   "outputs": [],
   "source": [
    "# Create a table with SQL syntax\n",
    "sql_statement = \"\"\"\n",
    "CREATE TABLE payments (\n",
    "  payment_id INT PRIMARY KEY,\n",
    "  mortgage_id INT,\n",
    "  customer_id INT,\n",
    "  payment INT,\n",
    "  payment_date DATE\n",
    ")\n",
    "\"\"\""
   ]
  },
  {
   "cell_type": "code",
   "execution_count": 6,
   "metadata": {},
   "outputs": [
    {
     "name": "stdout",
     "output_type": "stream",
     "text": [
      "2022-07-05 18:19:04,144 INFO sqlalchemy.engine.Engine \n",
      "CREATE TABLE payments (\n",
      "  payment_id INT PRIMARY KEY,\n",
      "  mortgage_id INT,\n",
      "  customer_id INT,\n",
      "  payment INT,\n",
      "  payment_date DATE\n",
      ")\n",
      "\n",
      "2022-07-05 18:19:04,145 INFO sqlalchemy.engine.Engine [raw sql] ()\n",
      "2022-07-05 18:19:04,146 INFO sqlalchemy.engine.Engine COMMIT\n"
     ]
    }
   ],
   "source": [
    "# Execute the SQL statement\n",
    "result = engine.execute(sql_statement)"
   ]
  },
  {
   "cell_type": "code",
   "execution_count": 7,
   "metadata": {},
   "outputs": [
    {
     "name": "stdout",
     "output_type": "stream",
     "text": [
      "2022-07-05 18:19:04,835 INFO sqlalchemy.engine.Engine SELECT name FROM sqlite_master WHERE type='table' ORDER BY name\n",
      "2022-07-05 18:19:04,836 INFO sqlalchemy.engine.Engine [raw sql] ()\n"
     ]
    },
    {
     "name": "stderr",
     "output_type": "stream",
     "text": [
      "/var/folders/n_/zpvmt78j3zj_n4nxs68szkfw0000gn/T/ipykernel_85150/2337618584.py:2: SADeprecationWarning: The Engine.table_names() method is deprecated and will be removed in a future release.  Please refer to Inspector.get_table_names(). (deprecated since: 1.4)\n",
      "  engine.table_names()\n"
     ]
    },
    {
     "data": {
      "text/plain": [
       "['payments']"
      ]
     },
     "execution_count": 7,
     "metadata": {},
     "output_type": "execute_result"
    }
   ],
   "source": [
    "# Get table names from the database\n",
    "engine.table_names()"
   ]
  },
  {
   "cell_type": "markdown",
   "metadata": {},
   "source": [
    "## Insert Data into the Table"
   ]
  },
  {
   "cell_type": "code",
   "execution_count": 8,
   "metadata": {},
   "outputs": [],
   "source": [
    "# Syntax for SQL INSERT  statement\n",
    "# INSERT INTO table_name(colum1, column2, ...) VALUES (val, val, ...), (val, val, ...)"
   ]
  },
  {
   "cell_type": "code",
   "execution_count": 9,
   "metadata": {},
   "outputs": [],
   "source": [
    "# Write the INSERT SQL query\n",
    "insert_data = \"\"\"\n",
    "    INSERT INTO payments(\"payment_id\", \"mortgage_id\", \"customer_id\", \"payment\", \"payment_date\")\n",
    "    VALUES (6530784, 530180, 0, 849, 2007-02-12), \n",
    "    (5332543, 625617, 1, 1116, 2007-10-21), (6633146, 588605, 2, 2465, 2002-06-22)\n",
    "    \"\"\""
   ]
  },
  {
   "cell_type": "code",
   "execution_count": 10,
   "metadata": {},
   "outputs": [
    {
     "name": "stdout",
     "output_type": "stream",
     "text": [
      "2022-07-05 18:19:06,607 INFO sqlalchemy.engine.Engine \n",
      "    INSERT INTO payments(\"payment_id\", \"mortgage_id\", \"customer_id\", \"payment\", \"payment_date\")\n",
      "    VALUES (6530784, 530180, 0, 849, 2007-02-12), \n",
      "    (5332543, 625617, 1, 1116, 2007-10-21), (6633146, 588605, 2, 2465, 2002-06-22)\n",
      "    \n",
      "2022-07-05 18:19:06,608 INFO sqlalchemy.engine.Engine [raw sql] ()\n",
      "2022-07-05 18:19:06,609 INFO sqlalchemy.engine.Engine COMMIT\n"
     ]
    },
    {
     "data": {
      "text/plain": [
       "<sqlalchemy.engine.cursor.LegacyCursorResult at 0x7fd0a0576e00>"
      ]
     },
     "execution_count": 10,
     "metadata": {},
     "output_type": "execute_result"
    }
   ],
   "source": [
    "# Execute the INSERT SQL statement\n",
    "engine.execute(insert_data)"
   ]
  },
  {
   "cell_type": "markdown",
   "metadata": {},
   "source": [
    "## Read a SQL Table"
   ]
  },
  {
   "cell_type": "code",
   "execution_count": 11,
   "metadata": {},
   "outputs": [],
   "source": [
    "# The SQL syntax to read a database table\n",
    "# SELECT <columns> FROM <table_name>"
   ]
  },
  {
   "cell_type": "code",
   "execution_count": 12,
   "metadata": {},
   "outputs": [],
   "source": [
    "# Select all rows from the payments table\n",
    "sql_statement = \"SELECT * FROM payments\""
   ]
  },
  {
   "cell_type": "code",
   "execution_count": 13,
   "metadata": {},
   "outputs": [
    {
     "name": "stdout",
     "output_type": "stream",
     "text": [
      "2022-07-05 18:19:07,867 INFO sqlalchemy.engine.Engine SELECT * FROM payments\n",
      "2022-07-05 18:19:07,868 INFO sqlalchemy.engine.Engine [raw sql] ()\n"
     ]
    }
   ],
   "source": [
    "# Execute the SQL statement\n",
    "result = engine.execute(sql_statement)"
   ]
  },
  {
   "cell_type": "code",
   "execution_count": 14,
   "metadata": {},
   "outputs": [
    {
     "data": {
      "text/plain": [
       "<sqlalchemy.engine.cursor.LegacyCursorResult at 0x7fd0681d2110>"
      ]
     },
     "execution_count": 14,
     "metadata": {},
     "output_type": "execute_result"
    }
   ],
   "source": [
    "# Review the result object\n",
    "result"
   ]
  },
  {
   "cell_type": "code",
   "execution_count": 15,
   "metadata": {},
   "outputs": [
    {
     "name": "stdout",
     "output_type": "stream",
     "text": [
      "(6530784, 530180, 0, 849, 1993)\n",
      "(5332543, 625617, 1, 1116, 1976)\n",
      "(6633146, 588605, 2, 2465, 1974)\n"
     ]
    }
   ],
   "source": [
    "# Print the results in the result object\n",
    "for row in result:\n",
    "    print(row)\n"
   ]
  },
  {
   "cell_type": "code",
   "execution_count": 16,
   "metadata": {},
   "outputs": [
    {
     "name": "stdout",
     "output_type": "stream",
     "text": [
      "2022-07-05 18:19:08,601 INFO sqlalchemy.engine.Engine SELECT * FROM payments\n",
      "2022-07-05 18:19:08,602 INFO sqlalchemy.engine.Engine [raw sql] ()\n"
     ]
    },
    {
     "data": {
      "text/plain": [
       "[(6530784, 530180, 0, 849, 1993),\n",
       " (5332543, 625617, 1, 1116, 1976),\n",
       " (6633146, 588605, 2, 2465, 1974)]"
      ]
     },
     "execution_count": 16,
     "metadata": {},
     "output_type": "execute_result"
    }
   ],
   "source": [
    "# Alternative method using fetchall. The result object is cleared after it is read.\n",
    "# You will need to re-execute the sql statement again.\n",
    "\n",
    "# Execute sql statement\n",
    "result = engine.execute(sql_statement)\n",
    "\n",
    "# Review the data with the fetchall method\n",
    "result.fetchall()"
   ]
  },
  {
   "cell_type": "code",
   "execution_count": null,
   "metadata": {},
   "outputs": [],
   "source": []
  },
  {
   "cell_type": "code",
   "execution_count": null,
   "metadata": {},
   "outputs": [],
   "source": []
  }
 ],
 "metadata": {
  "kernelspec": {
   "display_name": "Python [conda env:dev]",
   "language": "python",
   "name": "conda-env-dev-py"
  },
  "language_info": {
   "codemirror_mode": {
    "name": "ipython",
    "version": 3
   },
   "file_extension": ".py",
   "mimetype": "text/x-python",
   "name": "python",
   "nbconvert_exporter": "python",
   "pygments_lexer": "ipython3",
   "version": "3.10.4"
  },
  "nteract": {
   "version": "0.28.0"
  }
 },
 "nbformat": 4,
 "nbformat_minor": 4
}
